{
 "cells": [
  {
   "cell_type": "markdown",
   "metadata": {
    "colab_type": "text",
    "id": "x9VUagMroNkj"
   },
   "source": [
    "# **Machine Learning Lab 4EII - IA course**"
   ]
  },
  {
   "cell_type": "markdown",
   "metadata": {
    "colab_type": "text",
    "id": "RdNqp46loNkm"
   },
   "source": [
    "## 1- **Introduction**\n",
    "\n",
    "This lab aim at using simple **deep learning** classifier only with Python (without external framework) for a classification problem of recognizing handwritten digits. We consider ten digits 0 to 9 from MNIST dataset, with using Neural Network (NN) with two layers (one hidden layer). \n",
    "\n",
    "In this lab you will learn to:\n",
    "* Build you own two layers NN with Python\n",
    "* Build different steps of NN: forward, backward propagations, loss function and activation functions.\n",
    "* Study the performance and hyper-parameters of NN\n",
    "* Build a NN and CNN with using Keras module\n",
    "\n",
    "The architecture and parameters of the two layers NN are shown in this figure. \n",
    "\n",
    "\n",
    "![architecture and parameters of the two layers NN](https://drive.google.com/uc?id=1-DkY2Of_l7MBXnz9vEZ8jvxh-I_vEK0q)"
   ]
  },
  {
   "cell_type": "markdown",
   "metadata": {
    "colab_type": "text",
    "id": "kb0Ckwt51NSu"
   },
   "source": [
    "## 2- **Module importation**\n",
    "Import some useful and common python modules "
   ]
  },
  {
   "cell_type": "code",
   "execution_count": 1,
   "metadata": {
    "colab": {},
    "colab_type": "code",
    "id": "5hxU_LEZoNko"
   },
   "outputs": [],
   "source": [
    "import numpy as np\n",
    "import matplotlib.pyplot as plt\n",
    "from sklearn.datasets import fetch_openml\n",
    "import progressbar\n",
    "import time"
   ]
  },
  {
   "cell_type": "markdown",
   "metadata": {
    "colab_type": "text",
    "id": "Oc7KsfZWoNks"
   },
   "source": [
    "## 3- **Download and study the the MNIST dataset**\n",
    "\n"
   ]
  },
  {
   "cell_type": "markdown",
   "metadata": {
    "colab_type": "text",
    "id": "LHOn5QhATNph"
   },
   "source": [
    "### 3.a - Download the MNIST dataset\n",
    "\n",
    "MNIST dataset contains 70000 images of handwritten digits from 0 to 9. The dataset contains images of size 28x28 pixels and the corresponding labels"
   ]
  },
  {
   "cell_type": "code",
   "execution_count": 2,
   "metadata": {
    "colab": {},
    "colab_type": "code",
    "id": "jcNOgG4E4z3Z"
   },
   "outputs": [],
   "source": [
    "mnist = fetch_openml('mnist_784') #You can also use and test mnist_784/Fashion-MNIST dataset  "
   ]
  },
  {
   "cell_type": "markdown",
   "metadata": {
    "colab_type": "text",
    "id": "8P5b_cAIIjcJ"
   },
   "source": [
    "### 3.b - Create a class structure to save and analyse the dataset"
   ]
  },
  {
   "cell_type": "code",
   "execution_count": 3,
   "metadata": {
    "colab": {},
    "colab_type": "code",
    "id": "Z7xSVMRZoNkt"
   },
   "outputs": [],
   "source": [
    "def computeentropy(image):\n",
    "    lensig=image.size\n",
    "    symset=list(set(image))\n",
    "    numsym=len(symset)\n",
    "    propab=[np.size(image[image==i])/(1.0*lensig) for i in symset]\n",
    "    ent=np.sum([p*np.log2(1.0/p) for p in propab])\n",
    "    return ent;\n",
    "\n",
    "class Digit:\n",
    "    def __init__(self, data, target):\n",
    "        self.width      = int(np.sqrt((len(data))))\n",
    "        self.target     = target;\n",
    "        self.image      = data;\n",
    "\n",
    "        self.features   = {\n",
    "                            'var'        :0.0, 'std'        :0.0,\n",
    "                            'mean'       :0.0, 'entropy'    :0.0,\n",
    "                          }\n",
    "        self.computeFeatures()\n",
    "\n",
    "    def computeFeatures(self):\n",
    "        self.features['var'] = round(np.var(self.image),2)\n",
    "        self.features['std'] = round(np.std(self.image),2)\n",
    "        self.features['mean'] = round(np.mean(self.image),2)\n",
    "        self.features['entropy'] = round(computeentropy(self.image),2)\n",
    "\n",
    "    def print(self):\n",
    "        print(\"Digit target: \" + str(self.target))\n",
    "        print(\"Digit target size: \"+ str(self.width)  + \"x\" +str(self.width) + \n",
    "              '| mean : ' + str(self.features['mean']) +\n",
    "              '| var : ' + str(self.features['var']) + \n",
    "              '| std :' + str(self.features['std']) + \n",
    "              '| entropy :' + str(self.features['entropy']))\n",
    "        print(\"Digit image:\")\n",
    "        plt.figure()\n",
    "        plt.gray()\n",
    "        plt.matshow(self.image.reshape(self.width, self.width)) \n",
    "        plt.savefig(str(self.target)+'.png', bbox_inches='tight')\n",
    "        plt.show() \n",
    "    def getWidth(self):\n",
    "        return self.width;\n",
    "\n",
    "\n",
    "class Dataset:    \n",
    "    def __init__(self, data, size=0, nb_classes=10):  \n",
    "        self.length = int((len(data['data'])))\n",
    "        if size > 0 and size <  self.length:\n",
    "            self.length = size;\n",
    "        else:\n",
    "            size = self.length;  \n",
    "\n",
    "        self.targets  = data['target'][0:size]\n",
    "        self.data = data['data'][0:size];\n",
    "        self.digits       = [];\n",
    "        self.nb_classes = nb_classes; \n",
    "        self.createDigits()\n",
    "        self.X_train = []; \n",
    "        self.X_test = []; \n",
    "        self.y_train = []; \n",
    "        self.y_test = [];  \n",
    "\n",
    "    def printInfo(self):\n",
    "        from collections import Counter\n",
    "\n",
    "        c = Counter(self.targets)\n",
    "        info = \"Dataset size \" + str(self.length)\n",
    "        key_value = {} \n",
    "        for i in sorted(c.keys()):\n",
    "            key_value[i] = c[i];\n",
    "\n",
    "        plt.bar(key_value.keys(), key_value.values());\n",
    "        plt.xlabel('Labels')\n",
    "        plt.ylabel('Occurrence')\n",
    "        plt.title('Occurrence of MNIST dataset labels')\n",
    "        ax = plt.axes()        \n",
    "        ax.grid(which='major', axis='y')\n",
    "        plt.show()\n",
    "        return info\n",
    "\n",
    "    def createDigits(self):\n",
    "        bar = progressbar.ProgressBar(maxval=self.length).start()\n",
    "        for i in range(self.length):\n",
    "            self.digits.append(Digit(self.data[i], self.targets[i]))\n",
    "            bar.update(i+1);\n",
    "\n",
    "    def separate_train_test(self, test_size_ratio):\n",
    "        from sklearn.model_selection import train_test_split \n",
    "        import keras\n",
    "\n",
    "        self.X_train, self.X_test, self.y_train, self.y_test = train_test_split(self.data, self.targets, test_size=test_size_ratio)\n",
    "        # data normalization   \n",
    "        self.X_train = self.X_train/255;\n",
    "        self.X_test  = self.X_test/255;\n",
    "\n",
    "        self.X_train = self.X_train.astype('float32')\n",
    "        self.X_test = self.X_test.astype('float32')\n",
    "        print('Size of training set : ' + str(len(self.y_train)) + ' / ' + str(len(self.data)));\n",
    "        print('Size of testing set : ' + str(len(self.y_test))+ ' / ' + str(len(self.data)));\n",
    "        self.X_train  = self.X_train.reshape(len(self.X_train), self.digits[0].getWidth()*self.digits[0].getWidth())  # reshape input from (28,28) to 784\n",
    "        self.X_test   = self.X_test.reshape(len(self.X_test), self.digits[0].width*self.digits[0].width)\n",
    "        self.X_train  = self.X_train.astype('float32')\n",
    "        self.X_test   = self.X_test.astype('float32')\n",
    "\n",
    "        self.Y_train = keras.utils.to_categorical(self.y_train, self.nb_classes)\n",
    "        self.Y_test = keras.utils.to_categorical(self.y_test, self.nb_classes)\n",
    "\n",
    "    def reshapeinImage(self):\n",
    "        width = self.digits[0].width; \n",
    "        self.X_train = self.X_train.reshape(self.X_train.shape[0], width, width, 1)\n",
    "        self.X_test  = self.X_test.reshape(self.X_test.shape[0], width, width, 1)\n",
    "\n",
    "\n",
    "    def display_train_test(self):\n",
    "        from collections import Counter\n",
    "\n",
    "        test = Counter(self.y_test)\n",
    "        train = Counter(self.y_train)\n",
    "        info = \"Dataset size \" + str(self.length) \n",
    "\n",
    "        key_value_train = {};\n",
    "        key_value_test = {};\n",
    "\n",
    "        for i in sorted(test.keys()):\n",
    "            key_value_test[i] = test[i];\n",
    "        for i in sorted(train.keys()):\n",
    "            key_value_train[i] = train[i];\n",
    "\n",
    "        p1 = plt.bar(key_value_train.keys(), key_value_train.values(), width=0.5);\n",
    "        p2 = plt.bar( key_value_test.keys(), key_value_test.values(), width=0.5, bottom=list(key_value_train.values()) ); \n",
    "\n",
    "        plt.legend((p1[0], p2[0]), ('Training set', 'Test set'), loc='lower left')\n",
    "        plt.xlabel('Labels')\n",
    "        plt.ylabel('Occurrence')\n",
    "        plt.title('Occurrence of training and testing sets')\n",
    "        ax = plt.axes()        \n",
    "        ax.grid(which='major', axis='y')\n",
    "        plt.show();    "
   ]
  },
  {
   "cell_type": "markdown",
   "metadata": {
    "colab_type": "text",
    "id": "UQnh_R2-hgGA"
   },
   "source": [
    "### 3.b - Load the MNIST dataset in Dataset class and analyse it: \n",
    "1.   Load the dataset in Dataset class \n",
    "\n",
    "*samples* is the number of considered samples (sub-set) over 700000 of MNIST dataset, it enables faster training and testing\n",
    "\n"
   ]
  },
  {
   "cell_type": "code",
   "execution_count": 4,
   "metadata": {
    "colab": {},
    "colab_type": "code",
    "id": "5Dz7IOpTSMci"
   },
   "outputs": [
    {
     "name": "stderr",
     "output_type": "stream",
     "text": [
      "100% |########################################################################|\r"
     ]
    }
   ],
   "source": [
    "samples = 0; # All pictures \n",
    "training_set = Dataset(mnist, samples) "
   ]
  },
  {
   "cell_type": "markdown",
   "metadata": {
    "colab_type": "text",
    "id": "JohTNLeqgrkl"
   },
   "source": [
    "2.   Display some digist with corresponding features  "
   ]
  },
  {
   "cell_type": "code",
   "execution_count": 5,
   "metadata": {
    "colab": {},
    "colab_type": "code",
    "id": "WQyihOsBOt1U"
   },
   "outputs": [
    {
     "name": "stdout",
     "output_type": "stream",
     "text": [
      "Digit target: 5\n",
      "Digit target size: 28x28| mean : 35.11| var : 6343.94| std :79.65| entropy :1.83\n",
      "Digit image:\n"
     ]
    },
    {
     "data": {
      "text/plain": [
       "<Figure size 432x288 with 0 Axes>"
      ]
     },
     "metadata": {},
     "output_type": "display_data"
    },
    {
     "data": {
      "image/png": "[encoded data removed]",
      "text/plain": [
       "<Figure size 288x288 with 1 Axes>"
      ]
     },
     "metadata": {
      "needs_background": "light"
     },
     "output_type": "display_data"
    },
    {
     "name": "stdout",
     "output_type": "stream",
     "text": [
      "Digit target: 0\n",
      "Digit target size: 28x28| mean : 39.66| var : 7037.06| std :83.89| entropy :1.92\n",
      "Digit image:\n"
     ]
    },
    {
     "data": {
      "text/plain": [
       "<Figure size 432x288 with 0 Axes>"
      ]
     },
     "metadata": {},
     "output_type": "display_data"
    },
    {
     "data": {
      "image/png": "[encoded data removed]",
      "text/plain": [
       "<Figure size 288x288 with 1 Axes>"
      ]
     },
     "metadata": {
      "needs_background": "light"
     },
     "output_type": "display_data"
    },
    {
     "name": "stdout",
     "output_type": "stream",
     "text": [
      "Digit target: 4\n",
      "Digit target size: 28x28| mean : 24.8| var : 4300.7| std :65.58| entropy :1.46\n",
      "Digit image:\n"
     ]
    },
    {
     "data": {
      "text/plain": [
       "<Figure size 432x288 with 0 Axes>"
      ]
     },
     "metadata": {},
     "output_type": "display_data"
    },
    {
     "data": {
      "image/png": "[encoded data removed]",
      "text/plain": [
       "<Figure size 288x288 with 1 Axes>"
      ]
     },
     "metadata": {
      "needs_background": "light"
     },
     "output_type": "display_data"
    },
    {
     "name": "stdout",
     "output_type": "stream",
     "text": [
      "Digit target: 1\n",
      "Digit target size: 28x28| mean : 21.86| var : 4366.42| std :66.08| entropy :1.1\n",
      "Digit image:\n"
     ]
    },
    {
     "data": {
      "text/plain": [
       "<Figure size 432x288 with 0 Axes>"
      ]
     },
     "metadata": {},
     "output_type": "display_data"
    },
    {
     "data": {
      "image/png": "[encoded data removed]",
      "text/plain": [
       "<Figure size 288x288 with 1 Axes>"
      ]
     },
     "metadata": {
      "needs_background": "light"
     },
     "output_type": "display_data"
    },
    {
     "name": "stdout",
     "output_type": "stream",
     "text": [
      "Digit target: 9\n",
      "Digit target size: 28x28| mean : 29.61| var : 5531.09| std :74.37| entropy :1.61\n",
      "Digit image:\n"
     ]
    },
    {
     "data": {
      "text/plain": [
       "<Figure size 432x288 with 0 Axes>"
      ]
     },
     "metadata": {},
     "output_type": "display_data"
    },
    {
     "data": {
      "image/png": "[encoded data removed]",
      "text/plain": [
       "<Figure size 288x288 with 1 Axes>"
      ]
     },
     "metadata": {
      "needs_background": "light"
     },
     "output_type": "display_data"
    },
    {
     "name": "stdout",
     "output_type": "stream",
     "text": [
      "Digit target: 2\n",
      "Digit target size: 28x28| mean : 37.76| var : 6577.97| std :81.1| entropy :2.11\n",
      "Digit image:\n"
     ]
    },
    {
     "data": {
      "text/plain": [
       "<Figure size 432x288 with 0 Axes>"
      ]
     },
     "metadata": {},
     "output_type": "display_data"
    },
    {
     "data": {
      "image/png": "[encoded data removed]",
      "text/plain": [
       "<Figure size 288x288 with 1 Axes>"
      ]
     },
     "metadata": {
      "needs_background": "light"
     },
     "output_type": "display_data"
    },
    {
     "name": "stdout",
     "output_type": "stream",
     "text": [
      "Digit target: 1\n",
      "Digit target size: 28x28| mean : 22.51| var : 4602.49| std :67.84| entropy :0.94\n",
      "Digit image:\n"
     ]
    },
    {
     "data": {
      "text/plain": [
       "<Figure size 432x288 with 0 Axes>"
      ]
     },
     "metadata": {},
     "output_type": "display_data"
    },
    {
     "data": {
      "image/png": "[encoded data removed]",
      "text/plain": [
       "<Figure size 288x288 with 1 Axes>"
      ]
     },
     "metadata": {
      "needs_background": "light"
     },
     "output_type": "display_data"
    },
    {
     "name": "stdout",
     "output_type": "stream",
     "text": [
      "Digit target: 3\n",
      "Digit target size: 28x28| mean : 45.75| var : 8102.99| std :90.02| entropy :1.99\n",
      "Digit image:\n"
     ]
    },
    {
     "data": {
      "text/plain": [
       "<Figure size 432x288 with 0 Axes>"
      ]
     },
     "metadata": {},
     "output_type": "display_data"
    },
    {
     "data": {
      "image/png": "[encoded data removed]",
      "text/plain": [
       "<Figure size 288x288 with 1 Axes>"
      ]
     },
     "metadata": {
      "needs_background": "light"
     },
     "output_type": "display_data"
    },
    {
     "name": "stdout",
     "output_type": "stream",
     "text": [
      "Digit target: 1\n",
      "Digit target size: 28x28| mean : 13.87| var : 2768.36| std :52.62| entropy :0.81\n",
      "Digit image:\n"
     ]
    },
    {
     "data": {
      "text/plain": [
       "<Figure size 432x288 with 0 Axes>"
      ]
     },
     "metadata": {},
     "output_type": "display_data"
    },
    {
     "data": {
      "image/png": "[encoded data removed]",
      "text/plain": [
       "<Figure size 288x288 with 1 Axes>"
      ]
     },
     "metadata": {
      "needs_background": "light"
     },
     "output_type": "display_data"
    },
    {
     "name": "stdout",
     "output_type": "stream",
     "text": [
      "Digit target: 4\n",
      "Digit target size: 28x28| mean : 27.94| var : 5120.58| std :71.56| entropy :1.59\n",
      "Digit image:\n"
     ]
    },
    {
     "data": {
      "text/plain": [
       "<Figure size 432x288 with 0 Axes>"
      ]
     },
     "metadata": {},
     "output_type": "display_data"
    },
    {
     "data": {
      "image/png": "[encoded data removed]",
      "text/plain": [
       "<Figure size 288x288 with 1 Axes>"
      ]
     },
     "metadata": {
      "needs_background": "light"
     },
     "output_type": "display_data"
    }
   ],
   "source": [
    "samples_to_diplay = 10;\n",
    "for i in range(samples_to_diplay):\n",
    "  training_set.digits[i].print()"
   ]
  },
  {
   "cell_type": "markdown",
   "metadata": {
    "colab_type": "text",
    "id": "K_hFGBfUgvAC"
   },
   "source": [
    "3.   Display digits repartitions with *printInfo* function of *Dataset* class\n",
    "\n",
    "*   Is the dataset well balanced ?\n",
    "\n",
    "\n",
    "\n"
   ]
  },
  {
   "cell_type": "code",
   "execution_count": 6,
   "metadata": {
    "colab": {},
    "colab_type": "code",
    "id": "u9TXwibVPQrH"
   },
   "outputs": [
    {
     "name": "stderr",
     "output_type": "stream",
     "text": [
      "<ipython-input-3-3b803e6231f3>:75: MatplotlibDeprecationWarning: Adding an axes using the same arguments as a previous axes currently reuses the earlier instance.  In a future version, a new instance will always be created and returned.  Meanwhile, this warning can be suppressed, and the future behavior ensured, by passing a unique label to each axes instance.\n",
      "  ax = plt.axes()\n"
     ]
    },
    {
     "data": {
      "image/png": "[encoded data removed]",
      "text/plain": [
       "<Figure size 432x288 with 1 Axes>"
      ]
     },
     "metadata": {
      "needs_background": "light"
     },
     "output_type": "display_data"
    },
    {
     "data": {
      "text/plain": [
       "'Dataset size 70000'"
      ]
     },
     "execution_count": 6,
     "metadata": {},
     "output_type": "execute_result"
    }
   ],
   "source": [
    "training_set.printInfo()"
   ]
  },
  {
   "cell_type": "markdown",
   "metadata": {
    "colab_type": "text",
    "id": "xezss3PAoNk3"
   },
   "source": [
    "## 4 - **Dataset preparation**\n",
    "\n",
    "\n",
    "> The MNIST dataset is split to training and testing sets with the corresponding labels\n",
    "\n"
   ]
  },
  {
   "cell_type": "markdown",
   "metadata": {
    "colab_type": "text",
    "id": "f1qYmf-SCTZn"
   },
   "source": [
    "### 4.a - Split the the MNIST dataset in training and testing sets \n",
    "\n",
    "*   Use *separate_train_test* function with a test set split ratio as parameter \n",
    "*   The test and train sets will be loaded in X_train and X_test lists and the corresponding labels in y_train and y_test lists. \n",
    "\n",
    "\n"
   ]
  },
  {
   "cell_type": "code",
   "execution_count": 7,
   "metadata": {
    "colab": {},
    "colab_type": "code",
    "id": "brlpjx3-oNk4"
   },
   "outputs": [
    {
     "name": "stdout",
     "output_type": "stream",
     "text": [
      "Size of training set : 52500 / 70000\n",
      "Size of testing set : 17500 / 70000\n"
     ]
    }
   ],
   "source": [
    "test_ratio = 0.25;\n",
    "training_set.separate_train_test(test_ratio)"
   ]
  },
  {
   "cell_type": "markdown",
   "metadata": {
    "colab_type": "text",
    "id": "5lh-Y6bSfU7v"
   },
   "source": [
    "### 4.b - Display the repartition of the digits \n",
    "\n",
    "*   Use  *display_train_test* function to illustrate the digits' repartition \n",
    "*   Check whether the repartition ratio is correct \n",
    "\n"
   ]
  },
  {
   "cell_type": "code",
   "execution_count": 8,
   "metadata": {
    "colab": {},
    "colab_type": "code",
    "id": "DPJBIqaCfV8M"
   },
   "outputs": [
    {
     "name": "stderr",
     "output_type": "stream",
     "text": [
      "<ipython-input-3-3b803e6231f3>:135: MatplotlibDeprecationWarning: Adding an axes using the same arguments as a previous axes currently reuses the earlier instance.  In a future version, a new instance will always be created and returned.  Meanwhile, this warning can be suppressed, and the future behavior ensured, by passing a unique label to each axes instance.\n",
      "  ax = plt.axes()\n"
     ]
    },
    {
     "data": {
      "image/png": "[encoded data removed]",
      "text/plain": [
       "<Figure size 432x288 with 1 Axes>"
      ]
     },
     "metadata": {
      "needs_background": "light"
     },
     "output_type": "display_data"
    }
   ],
   "source": [
    "training_set.display_train_test()"
   ]
  },
  {
   "cell_type": "markdown",
   "metadata": {
    "colab_type": "text",
    "id": "-bgHCavaoNlC"
   },
   "source": [
    "## 5 - **Define the diffrent functions of the NN**\n"
   ]
  },
  {
   "cell_type": "markdown",
   "metadata": {
    "colab_type": "text",
    "id": "dB16uNx_CtmQ"
   },
   "source": [
    "### 5.a - Activation fucntion\n",
    "\n",
    "> Define the activation functions used in forward and bachward propagations\n",
    "\n",
    "> Implement three activations functions seen in the MIT DL course: sigmoid, Hyperbolic Tangent and Rectified Linear Unit (ReLU) in forward and backward processes. Use numpy module functions such as *np.maximum* and *np.exp* "
   ]
  },
  {
   "cell_type": "code",
   "execution_count": 9,
   "metadata": {
    "colab": {},
    "colab_type": "code",
    "id": "Ry9k4IIqoNlC"
   },
   "outputs": [],
   "source": [
    "class myActivationFun(object):\n",
    "  \n",
    "    def softMax(x):\n",
    "        '''\n",
    "        always used on the last dense layers. It returns a value in the interval [0, 1] probability\n",
    "        '''\n",
    "        exps = np.exp(x - np.max(x))\n",
    "        return exps / np.sum(exps, axis=0)\n",
    "\n",
    "    def forward(x, actF):\n",
    "        if(actF =='ReLu'):\n",
    "            # TO DO\n",
    "            return np.maximum(0, x) \n",
    "        elif(actF =='Sigmoid'):\n",
    "            # TO DO\n",
    "            return 1/(1 + np.exp(-x))\n",
    "        elif (actF =='tanh'): \n",
    "            # TO DO\n",
    "            return np.tanh(x)\n",
    "        else: \n",
    "            print('Error this activation function '+ actF + ' is not supported, we consider ReLu');\n",
    "            return np.maximum(0, x)     \n",
    "\n",
    "    def backward(x, actF):\n",
    "        if(actF =='ReLu'):\n",
    "            # TO DO\n",
    "            return np.maximum(0, np.sign(x))\n",
    "        elif(actF =='Sigmoid'):\n",
    "            # TO DO\n",
    "            return 1/(1+np.exp(-(x)))*(1-1/(1+np.exp(-x)));\n",
    "        elif (actF =='tanh'): \n",
    "            # TO DO\n",
    "            return 1 - np.power(np.tanh(x), 2)\n",
    "        else: \n",
    "            print('Error this activation function '+ actF + ' is not supported, we consider ReLu');\n",
    "            return np.maximum(0, np.sign(x))\n"
   ]
  },
  {
   "cell_type": "markdown",
   "metadata": {
    "colab_type": "text",
    "id": "rplTrxfImLi2"
   },
   "source": [
    "### 5.b - Cross entropy loss function \n",
    "\n",
    "\n",
    "> Define the cross entropy loss function\n",
    "Use numpy module functions such as *np.multiply* and *np.log*   \n"
   ]
  },
  {
   "cell_type": "code",
   "execution_count": 10,
   "metadata": {
    "colab": {},
    "colab_type": "code",
    "id": "eA445O0Qj9O_"
   },
   "outputs": [],
   "source": [
    "class MyCrossEntropy(object):\n",
    "    def costFun(y, yt):\n",
    "        return -np.sum(np.multiply(yt,np.log(y)),axis=0)"
   ]
  },
  {
   "cell_type": "markdown",
   "metadata": {
    "colab_type": "text",
    "id": "EUWBI9jYpetQ"
   },
   "source": [
    "## 6 - **Build the architecture of the NN**\n",
    "\n",
    " In this section you will build the architecture of the NN in five mains steps:\n",
    "\n",
    "\n",
    "1.   Initialization of the parameters \n",
    "2.   Forward Process\n",
    "3.   Backward Process\n",
    "4.   Train the network \n",
    "5.   Predict the output \n"
   ]
  },
  {
   "cell_type": "markdown",
   "metadata": {
    "colab_type": "text",
    "id": "bYNOD7mUGyGs"
   },
   "source": [
    "## 6.a Parameters initialization "
   ]
  },
  {
   "cell_type": "code",
   "execution_count": 11,
   "metadata": {
    "colab": {},
    "colab_type": "code",
    "id": "PZUL91h56Xv-"
   },
   "outputs": [],
   "source": [
    "class Neural_Network:\n",
    "    def __init__(self, dataset, nb_classes=10, nb_hiden_layers=1, \n",
    "                 batch_size=128, hiden_layer_size=300, activFunc = \"ReLu\"):\n",
    "        self.dataset     = dataset;\n",
    "        self.nb_layers   = nb_hiden_layers+1;\n",
    "        self.nb_classes  = nb_classes; \n",
    "        self.output_size  = nb_classes;\n",
    "        self.Mini_batch_size  = batch_size;\n",
    "        self.train_set_size,self.input_size = self.dataset.X_train.shape\n",
    "        self.hiden_layer_size  = hiden_layer_size;\n",
    "        self.activFunc = activFunc;\n",
    "        self.Initilize_NN()\n",
    "\n",
    "    def Initilize_NN(self):\n",
    "        self.sig   = 0.05;\n",
    "        self.lambd = 0.01;\n",
    "        self.W = [0]*self.nb_layers;\n",
    "\n",
    "        # Initialize the weights with a normal distribution \n",
    "        self.W[0] = self.sig*np.random.randn(self.hiden_layer_size, self.input_size+1) # input layer \n",
    "        for i in range(1, self.nb_layers-1):\n",
    "            self.W[i] = self.sig*np.random.randn(self.hiden_layer_size, self.hiden_layer_size+1)   # hiden layers \n",
    "        self.W[self.nb_layers-1] = self.sig*np.random.randn(self.output_size, self.hiden_layer_size+1) # output layers \n",
    "\n",
    "    def forward (self, ind):\n",
    "        l = [];\n",
    "        h  = self.dataset.X_train[ind,].T\n",
    "        l.append(h);\n",
    "\n",
    "        for i in range(self.nb_layers):\n",
    "            a = np.matmul(self.W[i], np.r_[h, np.ones((1, self.Mini_batch_size))])\n",
    "\n",
    "            if(i != self.nb_layers-1): # Aplly ReLu operation \n",
    "                l.append(a);\n",
    "                h = myActivationFun.forward(a, self.activFunc)\n",
    "            else: # Apply SoftMax for the last layer \n",
    "                h = myActivationFun.softMax(a);\n",
    "\n",
    "            l.append(h);\n",
    "        return l;\n",
    "\n",
    "    def backward(self, l, ind, exps):\n",
    "        gradW = [0]*self.nb_layers;\n",
    "        stepsize = 0.1/self.Mini_batch_size;\n",
    "\n",
    "        dJ_da  = exps - self.dataset.Y_train[ind,].T\n",
    "        for i in range(self.nb_layers):\n",
    "            gradW[self.nb_layers-i-1] = np.matmul(dJ_da , np.r_[l.pop(), np.ones((1,self.Mini_batch_size))].T) + self.lambd*self.W[self.nb_layers-i-1]     \n",
    "            if(i != self.nb_layers-1):\n",
    "                dJ_da = np.matmul(self.W[self.nb_layers-i-1][:,0:self.hiden_layer_size].T, dJ_da) * myActivationFun.backward(l.pop(), self.activFunc)      \n",
    "            self.W[self.nb_layers-i-1] = self.W[self.nb_layers-i-1] - stepsize*gradW[self.nb_layers-i-1];\n",
    "\n",
    "    def train(self, nb_epoch=50):\n",
    "        t0=time.time()\n",
    "        nb_ite_max = int(np.round(nb_epoch*self.train_set_size/self.Mini_batch_size));\n",
    "        bar = progressbar.ProgressBar(maxval=nb_ite_max).start()\n",
    "        idx = 0;\n",
    "        for itr in range(nb_ite_max):\n",
    "            ind = np.random.choice(np.arange(self.train_set_size),self.Mini_batch_size, replace=False)\n",
    "            l = NN.forward(ind);\n",
    "            exps = l.pop();\n",
    "            err = MyCrossEntropy.costFun(exps, self.dataset.Y_train[ind,].T);\n",
    "            #print(np.sum(err))\n",
    "            NN.backward(l, ind, exps);\n",
    "            idx +=1;\n",
    "            bar.update(idx)\n",
    "        print('total computing time: '+str(time.time()-t0))\n",
    "\n",
    "\n",
    "    def predict(self):\n",
    "        test_set_size,p = self.dataset.X_test.shape;\n",
    "        y = self.dataset.X_test.T;\n",
    "\n",
    "        for i in range(self.nb_layers):\n",
    "            h = np.matmul(self.W[i], np.r_[y, np.ones((1,test_set_size))])\n",
    "            if(i != self.nb_layers-1): # Aplly ReLu operation \n",
    "                # TO DO\n",
    "                y = myActivationFun.forward(h, self.activFunc)\n",
    "            else: # Apply SoftMax for the last layer \n",
    "                # TO DO\n",
    "                y = myActivationFun.softMax(h)\n",
    "\n",
    "        winner = y.max(0).reshape((test_set_size,1))\n",
    "        yp = (y == np.outer(np.ones((10,1)),winner)).astype(int)\n",
    "        err_rate = 100*np.sum(np.abs(yp - self.dataset.Y_test.T))/test_set_size/2\n",
    "        print('Error rate:  %4.2f %%'% err_rate)\n"
   ]
  },
  {
   "cell_type": "markdown",
   "metadata": {
    "colab_type": "text",
    "id": "xJ-0neDU_WvV"
   },
   "source": [
    " ###  5.d - Train the Neural Network \n",
    "\n",
    "> Perform Neural Network training \n",
    "1.   Create an instance of Neural_Network class \n",
    "2.   Perform prediction on the testing set\n",
    "3.   Train the created Neural Network \n",
    "4.   Perform prediction again on the testing set\n",
    "\n",
    "> Compare the performance of the NN with the benchmark on [MNIST](http://yann.lecun.com/exdb/mnist/index.html) and [Fashion-MNIST](https://github.com/zalandoresearch/fashion-mnist) datasets, which one is more challenging to classify\n",
    "\n",
    "> Test your NN with different activation functions \n",
    "\n",
    "> Does increasing the number of hidden layers enhance the NN performance \n",
    "\n",
    "> What is the impact of the training rate of the NN performance ?\n",
    "\n",
    "> How many parameters are trained in this NN\n",
    "\n",
    "> Why the performance may slighly change between two simulations\n",
    "\n",
    "> Train the network with three layers\n",
    "\n"
   ]
  },
  {
   "cell_type": "markdown",
   "metadata": {},
   "source": [
    "3 layers"
   ]
  },
  {
   "cell_type": "code",
   "execution_count": 12,
   "metadata": {
    "colab": {},
    "colab_type": "code",
    "id": "uDqvB_fHTih3"
   },
   "outputs": [],
   "source": [
    "%%script false --no-raise-error\n",
    "NN = Neural_Network(training_set, batch_size=128, nb_hiden_layers=3, hiden_layer_size=350);\n",
    "print('Error rate before training : ')\n",
    "# TO DO\n",
    "NN.predict()\n",
    "\n",
    "print('Training -------------------------------')\n",
    "# TO DO\n",
    "NN.train()\n",
    "\n",
    "\n",
    "print('Testing -------------------------------')\n",
    "# TO DO\n",
    "NN.predict()"
   ]
  },
  {
   "cell_type": "markdown",
   "metadata": {},
   "source": [
    "5 layers"
   ]
  },
  {
   "cell_type": "code",
   "execution_count": 13,
   "metadata": {},
   "outputs": [],
   "source": [
    "%%script false --no-raise-error\n",
    "NN = Neural_Network(training_set, batch_size=128, nb_hiden_layers=5, hiden_layer_size=350);\n",
    "print('Error rate before training : ')\n",
    "# TO DO\n",
    "NN.predict()\n",
    "\n",
    "print('Training -------------------------------')\n",
    "# TO DO\n",
    "NN.train()\n",
    "\n",
    "\n",
    "print('Testing -------------------------------')\n",
    "# TO DO\n",
    "NN.predict()"
   ]
  },
  {
   "cell_type": "markdown",
   "metadata": {},
   "source": [
    "8 layers"
   ]
  },
  {
   "cell_type": "code",
   "execution_count": 14,
   "metadata": {},
   "outputs": [],
   "source": [
    "%%script false --no-raise-error\n",
    "NN = Neural_Network(training_set, batch_size=128, nb_hiden_layers=8, hiden_layer_size=350);\n",
    "print('Error rate before training : ')\n",
    "# TO DO\n",
    "NN.predict()\n",
    "\n",
    "print('Training -------------------------------')\n",
    "# TO DO\n",
    "NN.train()\n",
    "\n",
    "\n",
    "print('Testing -------------------------------')\n",
    "# TO DO\n",
    "NN.predict()"
   ]
  },
  {
   "cell_type": "markdown",
   "metadata": {},
   "source": [
    "5 Layers using Sigmoid activation function"
   ]
  },
  {
   "cell_type": "code",
   "execution_count": 15,
   "metadata": {},
   "outputs": [],
   "source": [
    "%%script false --no-raise-error\n",
    "NN = Neural_Network(training_set, batch_size=128, nb_hiden_layers=5, hiden_layer_size=350, activFunc=\"Sigmoid\");\n",
    "print('Error rate before training : ')\n",
    "# TO DO\n",
    "NN.predict()\n",
    "\n",
    "print('Training -------------------------------')\n",
    "# TO DO\n",
    "NN.train()\n",
    "\n",
    "\n",
    "print('Testing -------------------------------')\n",
    "# TO DO\n",
    "NN.predict()"
   ]
  },
  {
   "cell_type": "markdown",
   "metadata": {
    "colab_type": "text",
    "id": "QTR_BeUAyzGB"
   },
   "source": [
    "> Run again prediction  "
   ]
  },
  {
   "cell_type": "code",
   "execution_count": 16,
   "metadata": {
    "colab": {},
    "colab_type": "code",
    "id": "v9AO-1Fa9twL"
   },
   "outputs": [],
   "source": [
    "\n",
    "def predict(NN):\n",
    "    nt,p = NN.dataset.X_test.shape;\n",
    "    y = NN.dataset.X_test.T;\n",
    "    for i in range(NN.nb_layers):\n",
    "        h = np.matmul(NN.W[i], np.r_[y, np.ones((1,nt))])\n",
    "        if(i != NN.nb_layers-1): # Aplly ReLu operation \n",
    "            # TO DO\n",
    "            y = myActivationFun.forward(h,\"ReLu\")\n",
    "        else: # Apply SoftMax for the last layer \n",
    "            # TO DO\n",
    "            y = myActivationFun.softMax(h)\n",
    "  \n",
    "    winner = y.max(0).reshape((nt,1))    \n",
    "    yp = (y == np.outer(np.ones((10,1)),winner)).astype(int)\n",
    "    err_rate = 100*np.sum(np.abs(yp - NN.dataset.Y_test.T))/nt/2\n",
    "    print('Test error rate:  %4.2f %%'% err_rate)\n",
    "    return yp;\n",
    "print(\"5 Layers - ReLu\")\n",
    "y_hat = predict(NN).T;"
   ]
  },
  {
   "cell_type": "markdown",
   "metadata": {
    "colab_type": "text",
    "id": "P-IDyxn8qpIJ"
   },
   "source": [
    "2.   Compute the [confusion matrix](https://scikit-learn.org/stable/modules/generated/sklearn.metrics.confusion_matrix.html) of the selected best performing solution and display it with *plot_confusion_matrix* function\n",
    "\n",
    "> What are the most difficult digits to predict ? Support your answer with numbers from the confusion matrix.\n",
    "\n",
    "\n",
    "\n"
   ]
  },
  {
   "cell_type": "code",
   "execution_count": 17,
   "metadata": {
    "colab": {},
    "colab_type": "code",
    "id": "uRObTHBRQlIk"
   },
   "outputs": [],
   "source": [
    "def plot_confusion_matrix(cm,\n",
    "                          target_names,\n",
    "                          title='Confusion matrix',\n",
    "                          cmap=None,\n",
    "                          normalize=True):\n",
    "    import matplotlib.pyplot as plt\n",
    "    import numpy as np\n",
    "    import itertools\n",
    "\n",
    "    accuracy = np.trace(cm) / float(np.sum(cm))\n",
    "    misclass = 1 - accuracy\n",
    "\n",
    "    if cmap is None:\n",
    "        cmap = plt.get_cmap('Blues')\n",
    "    plt.figure(figsize=(8, 6))\n",
    "    plt.imshow(cm, interpolation='nearest', cmap=cmap)\n",
    "    plt.title(title)\n",
    "    plt.colorbar()\n",
    "\n",
    "    if target_names is not None:\n",
    "        tick_marks = np.arange(len(target_names))\n",
    "        plt.xticks(tick_marks, target_names, rotation=45)\n",
    "        plt.yticks(tick_marks, target_names)\n",
    "\n",
    "    if normalize:\n",
    "        cm = cm.astype('float') / cm.sum(axis=1)[:, np.newaxis]\n",
    "\n",
    "    thresh = cm.max() / 1.5 if normalize else cm.max() / 2\n",
    "    for i, j in itertools.product(range(cm.shape[0]), range(cm.shape[1])):\n",
    "        if normalize:\n",
    "            plt.text(j, i, \"{:0.3f}\".format(cm[i, j]),\n",
    "                  horizontalalignment=\"center\",\n",
    "                  color=\"white\" if cm[i, j] > thresh else \"black\")\n",
    "        else:\n",
    "            plt.text(j, i, \"{:,}\".format(cm[i, j]),\n",
    "                    horizontalalignment=\"center\",\n",
    "                    color=\"white\" if cm[i, j] > thresh else \"black\")\n",
    "    plt.tight_layout()\n",
    "    plt.ylabel('True label')\n",
    "    plt.xlabel('Predicted label\\naccuracy={:0.4f}; misclass={:0.4f}'.format(accuracy, misclass))\n",
    "    plt.show()"
   ]
  },
  {
   "cell_type": "markdown",
   "metadata": {},
   "source": [
    "Confusion Matrix for 5 Layers Solution and ReLu activation function"
   ]
  },
  {
   "cell_type": "code",
   "execution_count": 18,
   "metadata": {
    "colab": {},
    "colab_type": "code",
    "id": "dQgzivAQMxZ4"
   },
   "outputs": [],
   "source": [
    "%%script false --no-raise-error\n",
    "from sklearn.metrics import confusion_matrix\n",
    "class_names = ['0', '1', '2', '3', '4', '5', '6', '7', '8', '9'];\n",
    "titles_options = [(\"Confusion matrix, without normalization\", False),\n",
    "                  (\"Normalized confusion matrix\", True)]\n",
    "\n",
    "\n",
    "n, c = y_hat.shape\n",
    "y_hat1 = np.zeros(n);\n",
    "y1 = np.zeros(n); \n",
    "for i in range(n):\n",
    "    y_hat1[i] = class_names[ int(np.where(y_hat[:][i]==1)[0]) ];\n",
    "    y1[i] = class_names[ int(np.where(NN.dataset.Y_test[:][i]==1)[0]) ];\n",
    "\n",
    "conf_mx = confusion_matrix( y1, y_hat1);\n",
    "plt.figure(figsize=(10,6))  \n",
    "for title, normalize in titles_options:\n",
    "    disp = plot_confusion_matrix(cm=conf_mx,\n",
    "                                 target_names=class_names,\n",
    "                                 title=title,\n",
    "                                 cmap=plt.cm.Blues,\n",
    "                                 normalize=normalize)"
   ]
  },
  {
   "cell_type": "markdown",
   "metadata": {
    "colab_type": "text",
    "id": "T0HYJCk-vWMa"
   },
   "source": [
    "## 6- Build a NN with using Keras module \n",
    "\n"
   ]
  },
  {
   "cell_type": "markdown",
   "metadata": {
    "colab_type": "text",
    "id": "dqb630nNiAWT"
   },
   "source": [
    "> Now, you can configure Colab to use GPU go to: Execution -> Modifier le type d'execution and select GPU. You can check the model of your GPU by running the code below "
   ]
  },
  {
   "cell_type": "code",
   "execution_count": 19,
   "metadata": {
    "colab": {},
    "colab_type": "code",
    "id": "mWNIDL0Gi9Wl"
   },
   "outputs": [
    {
     "data": {
      "text/plain": [
       "[name: \"/device:CPU:0\"\n",
       " device_type: \"CPU\"\n",
       " memory_limit: 268435456\n",
       " locality {\n",
       " }\n",
       " incarnation: 3786870377719783683,\n",
       " name: \"/device:GPU:0\"\n",
       " device_type: \"GPU\"\n",
       " memory_limit: 3479961600\n",
       " locality {\n",
       "   bus_id: 1\n",
       "   links {\n",
       "   }\n",
       " }\n",
       " incarnation: 4676501655708704171\n",
       " physical_device_desc: \"device: 0, name: GeForce GTX 1050 Ti, pci bus id: 0000:01:00.0, compute capability: 6.1\"]"
      ]
     },
     "execution_count": 19,
     "metadata": {},
     "output_type": "execute_result"
    }
   ],
   "source": [
    "import tensorflow as tf\n",
    "\n",
    "\n",
    "tf.test.gpu_device_name()\n",
    "from tensorflow.python.client import device_lib\n",
    "device_lib.list_local_devices()"
   ]
  },
  {
   "cell_type": "markdown",
   "metadata": {
    "colab_type": "text",
    "id": "BN2nJbwFjbDP"
   },
   "source": [
    "> Import keras related modules \n"
   ]
  },
  {
   "cell_type": "code",
   "execution_count": 20,
   "metadata": {
    "colab": {},
    "colab_type": "code",
    "id": "uKh0I36_jfNT"
   },
   "outputs": [],
   "source": [
    "from tensorflow.keras.models import Sequential\n",
    "from tensorflow.keras.layers import Dense\n",
    "from tensorflow import keras\n",
    "import time"
   ]
  },
  {
   "cell_type": "markdown",
   "metadata": {
    "colab_type": "text",
    "id": "GHXdHl6Nvu5X"
   },
   "source": [
    "### 6-a Create a 2 layers NN rachitecture "
   ]
  },
  {
   "cell_type": "code",
   "execution_count": 21,
   "metadata": {
    "colab": {},
    "colab_type": "code",
    "id": "bHu0I1ZEwD27"
   },
   "outputs": [
    {
     "name": "stdout",
     "output_type": "stream",
     "text": [
      "Model: \"sequential\"\n",
      "_________________________________________________________________\n",
      "Layer (type)                 Output Shape              Param #   \n",
      "=================================================================\n",
      "dense (Dense)                (None, 300)               235500    \n",
      "_________________________________________________________________\n",
      "dense_1 (Dense)              (None, 10)                3010      \n",
      "=================================================================\n",
      "Total params: 238,510\n",
      "Trainable params: 238,510\n",
      "Non-trainable params: 0\n",
      "_________________________________________________________________\n"
     ]
    }
   ],
   "source": [
    "NN2 = Sequential()\n",
    "NN2.add(Dense(units=300, activation='relu', input_dim=784))\n",
    "NN2.add(Dense(units=10, activation='softmax'))\n",
    "NN2.summary()"
   ]
  },
  {
   "cell_type": "markdown",
   "metadata": {
    "colab_type": "text",
    "id": "x0t0flh9xKoD"
   },
   "source": [
    "### 6.b Train the NN model  "
   ]
  },
  {
   "cell_type": "code",
   "execution_count": 22,
   "metadata": {
    "colab": {},
    "colab_type": "code",
    "id": "q8yXT9DMxMee"
   },
   "outputs": [
    {
     "name": "stdout",
     "output_type": "stream",
     "text": [
      "\n",
      "total computing time: 16.267042636871338\n"
     ]
    }
   ],
   "source": [
    "NN2.compile(loss      = 'categorical_crossentropy',\n",
    "           optimizer = keras.optimizers.SGD(), \n",
    "           metrics   = ['accuracy'])\n",
    "t0=time.time()\n",
    "NN2.fit(training_set.X_train, training_set.Y_train, epochs=10, verbose=0)\n",
    "print('')\n",
    "print('total computing time: '+str(time.time()-t0))"
   ]
  },
  {
   "cell_type": "markdown",
   "metadata": {
    "colab_type": "text",
    "id": "Cd4HzeB-004f"
   },
   "source": [
    "### 6.c Test the NN model "
   ]
  },
  {
   "cell_type": "code",
   "execution_count": 23,
   "metadata": {
    "colab": {},
    "colab_type": "code",
    "id": "Q3GX08Hj02sR"
   },
   "outputs": [
    {
     "name": "stdout",
     "output_type": "stream",
     "text": [
      "547/547 [==============================] - 1s 1ms/step - loss: 0.1700 - accuracy: 0.9520\n",
      "Test loss: 0.170 \n",
      "Test err:  4.80 %\n"
     ]
    }
   ],
   "source": [
    "score = NN2.evaluate(training_set.X_test, training_set.Y_test)  \n",
    "err = 100*(1-np.array(score))\n",
    "print('Test loss: %4.3f '%score[0])\n",
    "print('Test err:  %4.2f %%'% err[1])"
   ]
  },
  {
   "cell_type": "markdown",
   "metadata": {
    "colab_type": "text",
    "id": "VnTcDVlMTaRU"
   },
   "source": [
    "### 6.d Test the 2-layers NN with diffrent optimizers \n",
    "> Here you can use optimizes you have seen in the MIT course: SGD(lr=0.01, decay=1e-6, momentum=0.9, nesterov=False), Adadelta(), Adam(), Adagrad(), RMSprop(). Use more epochs for training. \n",
    "\n",
    ">Which solver enables the best accuracy on this dataset"
   ]
  },
  {
   "cell_type": "code",
   "execution_count": 24,
   "metadata": {
    "colab": {},
    "colab_type": "code",
    "id": "Ky2uniYITnMx"
   },
   "outputs": [
    {
     "name": "stdout",
     "output_type": "stream",
     "text": [
      "\n",
      "total computing time: 18.174842596054077\n",
      "547/547 [==============================] - 1s 1ms/step - loss: 0.0714 - accuracy: 0.9782\n",
      "Test loss: 0.071 \n",
      "Test err:  2.18 %\n"
     ]
    }
   ],
   "source": [
    "NN2.compile(loss      = 'categorical_crossentropy',\n",
    "           optimizer = keras.optimizers.SGD(lr=0.01, decay=1e-6, momentum=0.9, nesterov=False),  \n",
    "           metrics   = ['accuracy'])\n",
    "t0=time.time()\n",
    "NN2.fit(training_set.X_train, training_set.Y_train, epochs=10, verbose=0)\n",
    "print('')\n",
    "print('total computing time: '+str(time.time()-t0))\n",
    "score = NN2.evaluate(training_set.X_test, training_set.Y_test)  \n",
    "err = 100*(1-np.array(score))\n",
    "print('Test loss: %4.3f '%score[0])\n",
    "print('Test err:  %4.2f %%'% err[1])"
   ]
  },
  {
   "cell_type": "code",
   "execution_count": 25,
   "metadata": {},
   "outputs": [
    {
     "name": "stdout",
     "output_type": "stream",
     "text": [
      "\n",
      "total computing time: 15.246992111206055\n",
      "547/547 [==============================] - 1s 1ms/step - loss: 0.0676 - accuracy: 0.9795\n",
      "Test loss: 0.068 \n",
      "Test err:  2.05 %\n"
     ]
    }
   ],
   "source": [
    "NN2.compile(loss      = 'categorical_crossentropy',\n",
    "           optimizer = keras.optimizers.Adadelta(),\n",
    "           metrics   = ['accuracy'])\n",
    "t0=time.time()\n",
    "NN2.fit(training_set.X_train, training_set.Y_train, epochs=10, verbose=0)\n",
    "print('')\n",
    "print('total computing time: '+str(time.time()-t0))\n",
    "score = NN2.evaluate(training_set.X_test, training_set.Y_test)  \n",
    "err = 100*(1-np.array(score))\n",
    "print('Test loss: %4.3f '%score[0])\n",
    "print('Test err:  %4.2f %%'% err[1])"
   ]
  },
  {
   "cell_type": "code",
   "execution_count": 26,
   "metadata": {},
   "outputs": [
    {
     "name": "stdout",
     "output_type": "stream",
     "text": [
      "\n",
      "total computing time: 16.41800045967102\n",
      "547/547 [==============================] - 1s 1ms/step - loss: 0.1103 - accuracy: 0.9769\n",
      "Test loss: 0.110 \n",
      "Test err:  2.31 %\n"
     ]
    }
   ],
   "source": [
    "NN2.compile(loss      = 'categorical_crossentropy',\n",
    "           optimizer = keras.optimizers.Adam(), \n",
    "           metrics   = ['accuracy'])\n",
    "t0=time.time()\n",
    "NN2.fit(training_set.X_train, training_set.Y_train, epochs=10, verbose=0)\n",
    "print('')\n",
    "print('total computing time: '+str(time.time()-t0))\n",
    "score = NN2.evaluate(training_set.X_test, training_set.Y_test)  \n",
    "err = 100*(1-np.array(score))\n",
    "print('Test loss: %4.3f '%score[0])\n",
    "print('Test err:  %4.2f %%'% err[1])"
   ]
  },
  {
   "cell_type": "code",
   "execution_count": 27,
   "metadata": {},
   "outputs": [
    {
     "name": "stdout",
     "output_type": "stream",
     "text": [
      "\n",
      "total computing time: 17.021764993667603\n",
      "547/547 [==============================] - 1s 1ms/step - loss: 0.0867 - accuracy: 0.9823\n",
      "Test loss: 0.087 \n",
      "Test err:  1.77 %\n"
     ]
    }
   ],
   "source": [
    "NN2.compile(loss      = 'categorical_crossentropy',\n",
    "           optimizer = keras.optimizers.Adagrad(),\n",
    "           metrics   = ['accuracy'])\n",
    "t0=time.time()\n",
    "NN2.fit(training_set.X_train, training_set.Y_train, epochs=10, verbose=0)\n",
    "print('')\n",
    "print('total computing time: '+str(time.time()-t0))\n",
    "score = NN2.evaluate(training_set.X_test, training_set.Y_test)  \n",
    "err = 100*(1-np.array(score))\n",
    "print('Test loss: %4.3f '%score[0])\n",
    "print('Test err:  %4.2f %%'% err[1])"
   ]
  },
  {
   "cell_type": "code",
   "execution_count": 28,
   "metadata": {},
   "outputs": [
    {
     "name": "stdout",
     "output_type": "stream",
     "text": [
      "\n",
      "total computing time: 18.66803789138794\n",
      "547/547 [==============================] - 1s 1ms/step - loss: 0.1340 - accuracy: 0.9839\n",
      "Test loss: 0.134 \n",
      "Test err:  1.61 %\n"
     ]
    }
   ],
   "source": [
    "NN2.compile(loss      = 'categorical_crossentropy',\n",
    "           optimizer = keras.optimizers.RMSprop(),\n",
    "           metrics   = ['accuracy'])\n",
    "t0=time.time()\n",
    "NN2.fit(training_set.X_train, training_set.Y_train, epochs=10, verbose=0)\n",
    "print('')\n",
    "print('total computing time: '+str(time.time()-t0))\n",
    "score = NN2.evaluate(training_set.X_test, training_set.Y_test)  \n",
    "err = 100*(1-np.array(score))\n",
    "print('Test loss: %4.3f '%score[0])\n",
    "print('Test err:  %4.2f %%'% err[1])"
   ]
  },
  {
   "cell_type": "markdown",
   "metadata": {
    "colab_type": "text",
    "id": "QXhdweqET0ZI"
   },
   "source": [
    "### 6.e - Create a 3 layers NN \n",
    "> In this section you should build a new NN model with thee layers as illustrated in this Figure.\n",
    "\n",
    "> You can test with three optimizers: SGD and Adam and Adadelta(). \n",
    "\n",
    "> Compare the performance with the 2 layers NN implemented in the previous section in terms of complexity (number of parameters and accuracy/error)\n",
    "\n",
    "![Neural Network with three layers](https://drive.google.com/uc?id=1PM3Ya2PnvSqRsMwwp0TM7I2fEBX6_lJM)"
   ]
  },
  {
   "cell_type": "code",
   "execution_count": 29,
   "metadata": {
    "colab": {},
    "colab_type": "code",
    "id": "nSROgZPJVBYr"
   },
   "outputs": [
    {
     "name": "stdout",
     "output_type": "stream",
     "text": [
      "Model: \"sequential_1\"\n",
      "_________________________________________________________________\n",
      "Layer (type)                 Output Shape              Param #   \n",
      "=================================================================\n",
      "dense_2 (Dense)              (None, 500)               392500    \n",
      "_________________________________________________________________\n",
      "dense_3 (Dense)              (None, 300)               150300    \n",
      "_________________________________________________________________\n",
      "dense_4 (Dense)              (None, 10)                3010      \n",
      "=================================================================\n",
      "Total params: 545,810\n",
      "Trainable params: 545,810\n",
      "Non-trainable params: 0\n",
      "_________________________________________________________________\n"
     ]
    }
   ],
   "source": [
    "NN3 = Sequential()\n",
    "NN3.add(Dense(units=500, activation='relu', input_dim=784))\n",
    "NN3.add(Dense(units=300, activation='relu', input_dim=500))\n",
    "NN3.add(Dense(units=10, activation='softmax'))\n",
    "NN3.summary()"
   ]
  },
  {
   "cell_type": "code",
   "execution_count": 30,
   "metadata": {
    "colab": {},
    "colab_type": "code",
    "id": "Ky2uniYITnMx"
   },
   "outputs": [
    {
     "name": "stdout",
     "output_type": "stream",
     "text": [
      "\n",
      "total computing time: 18.53620743751526\n",
      "547/547 [==============================] - 1s 1ms/step - loss: 0.0678 - accuracy: 0.9813\n",
      "Test loss: 0.068 \n",
      "Test err:  1.87 %\n"
     ]
    }
   ],
   "source": [
    "NN3.compile(loss      = 'categorical_crossentropy',\n",
    "           optimizer = keras.optimizers.SGD(lr=0.01, decay=1e-6, momentum=0.9, nesterov=False),  \n",
    "           metrics   = ['accuracy'])\n",
    "t0=time.time()\n",
    "NN3.fit(training_set.X_train, training_set.Y_train, epochs=10, verbose=0)\n",
    "print('')\n",
    "print('total computing time: '+str(time.time()-t0))\n",
    "score = NN3.evaluate(training_set.X_test, training_set.Y_test)  \n",
    "err = 100*(1-np.array(score))\n",
    "print('Test loss: %4.3f '%score[0])\n",
    "print('Test err:  %4.2f %%'% err[1])"
   ]
  },
  {
   "cell_type": "code",
   "execution_count": 31,
   "metadata": {},
   "outputs": [
    {
     "name": "stdout",
     "output_type": "stream",
     "text": [
      "\n",
      "total computing time: 19.756853580474854\n",
      "547/547 [==============================] - 1s 1ms/step - loss: 0.1178 - accuracy: 0.9785\n",
      "Test loss: 0.118 \n",
      "Test err:  2.15 %\n"
     ]
    }
   ],
   "source": [
    "NN3.compile(loss      = 'categorical_crossentropy',\n",
    "           optimizer = keras.optimizers.Adam(), \n",
    "           metrics   = ['accuracy'])\n",
    "t0=time.time()\n",
    "NN3.fit(training_set.X_train, training_set.Y_train, epochs=10, verbose=0)\n",
    "print('')\n",
    "print('total computing time: '+str(time.time()-t0))\n",
    "score = NN3.evaluate(training_set.X_test, training_set.Y_test)  \n",
    "err = 100*(1-np.array(score))\n",
    "print('Test loss: %4.3f '%score[0])\n",
    "print('Test err:  %4.2f %%'% err[1])"
   ]
  },
  {
   "cell_type": "code",
   "execution_count": 32,
   "metadata": {},
   "outputs": [
    {
     "name": "stdout",
     "output_type": "stream",
     "text": [
      "\n",
      "total computing time: 18.75704574584961\n",
      "547/547 [==============================] - 1s 1ms/step - loss: 0.1122 - accuracy: 0.9795\n",
      "Test loss: 0.112 \n",
      "Test err:  2.05 %\n"
     ]
    }
   ],
   "source": [
    "NN3.compile(loss      = 'categorical_crossentropy',\n",
    "           optimizer = keras.optimizers.Adadelta(),\n",
    "           metrics   = ['accuracy'])\n",
    "t0=time.time()\n",
    "NN3.fit(training_set.X_train, training_set.Y_train, epochs=10, verbose=0)\n",
    "print('')\n",
    "print('total computing time: '+str(time.time()-t0))\n",
    "score = NN3.evaluate(training_set.X_test, training_set.Y_test)  \n",
    "err = 100*(1-np.array(score))\n",
    "print('Test loss: %4.3f '%score[0])\n",
    "print('Test err:  %4.2f %%'% err[1])"
   ]
  },
  {
   "cell_type": "code",
   "execution_count": 33,
   "metadata": {},
   "outputs": [
    {
     "name": "stdout",
     "output_type": "stream",
     "text": [
      "\n",
      "total computing time: 23.676351308822632\n",
      "547/547 [==============================] - 1s 1ms/step - loss: 0.2203 - accuracy: 0.9857\n",
      "Test loss: 0.220 \n",
      "Test err:  1.43 %\n"
     ]
    }
   ],
   "source": [
    "NN3.compile(loss      = 'categorical_crossentropy',\n",
    "           optimizer = keras.optimizers.RMSprop(),\n",
    "           metrics   = ['accuracy'])\n",
    "t0=time.time()\n",
    "NN3.fit(training_set.X_train, training_set.Y_train, epochs=10, verbose=0)\n",
    "print('')\n",
    "print('total computing time: '+str(time.time()-t0))\n",
    "score = NN3.evaluate(training_set.X_test, training_set.Y_test)  \n",
    "err = 100*(1-np.array(score))\n",
    "print('Test loss: %4.3f '%score[0])\n",
    "print('Test err:  %4.2f %%'% err[1])"
   ]
  },
  {
   "cell_type": "markdown",
   "metadata": {
    "colab_type": "text",
    "id": "HWL3UtMgVOW4"
   },
   "source": [
    "## 7- Create a convolutional neural Network (CNN)"
   ]
  },
  {
   "cell_type": "markdown",
   "metadata": {
    "colab_type": "text",
    "id": "SXK2fOuQl8Cz"
   },
   "source": [
    "> In this section you will build a convolutional Neural Networks and compare its performance in terms of complexity (number of parameter to train, training and testing time) and accuracy/error on the testing and training sets.  "
   ]
  },
  {
   "cell_type": "code",
   "execution_count": 44,
   "metadata": {
    "colab": {},
    "colab_type": "code",
    "id": "fKwCRRLHVQEO"
   },
   "outputs": [],
   "source": [
    "from tensorflow.keras.layers import Conv2D, MaxPooling2D, Dropout, Flatten, AveragePooling2D"
   ]
  },
  {
   "cell_type": "markdown",
   "metadata": {
    "colab_type": "text",
    "id": "n0OWiUTirR9D"
   },
   "source": [
    "> Create a CNN with two conv layers (6 filters of size 5x5 and 16 of size 5x5) followed maxPooling layers and three dense layers (of size 120, 84 and ...). "
   ]
  },
  {
   "cell_type": "code",
   "execution_count": 100,
   "metadata": {
    "colab": {},
    "colab_type": "code",
    "id": "tBe1s_HGKsVj",
    "scrolled": false
   },
   "outputs": [
    {
     "name": "stdout",
     "output_type": "stream",
     "text": [
      "Model: \"sequential_40\"\n",
      "_________________________________________________________________\n",
      "Layer (type)                 Output Shape              Param #   \n",
      "=================================================================\n",
      "conv2d_90 (Conv2D)           (None, 24, 24, 6)         156       \n",
      "_________________________________________________________________\n",
      "max_pooling2d_44 (MaxPooling (None, 12, 12, 6)         0         \n",
      "_________________________________________________________________\n",
      "conv2d_91 (Conv2D)           (None, 8, 8, 16)          2416      \n",
      "_________________________________________________________________\n",
      "max_pooling2d_45 (MaxPooling (None, 4, 4, 16)          0         \n",
      "_________________________________________________________________\n",
      "flatten_29 (Flatten)         (None, 256)               0         \n",
      "_________________________________________________________________\n",
      "dense_99 (Dense)             (None, 200)               51400     \n",
      "_________________________________________________________________\n",
      "dense_100 (Dense)            (None, 84)                16884     \n",
      "_________________________________________________________________\n",
      "dense_101 (Dense)            (None, 10)                850       \n",
      "=================================================================\n",
      "Total params: 71,706\n",
      "Trainable params: 71,706\n",
      "Non-trainable params: 0\n",
      "_________________________________________________________________\n",
      "total computing time: 24.84200096130371\n",
      "547/547 [==============================] - 1s 1ms/step - loss: 0.0485 - accuracy: 0.9890\n",
      "Test loss: 0.048 \n",
      "Test err:  1.10 %\n"
     ]
    }
   ],
   "source": [
    "CNN = Sequential()\n",
    "CNN.add(Conv2D(6, kernel_size=(5, 5), activation=tf.keras.layers.ReLU(), input_shape=(28,28,1)))\n",
    "CNN.add(MaxPooling2D(pool_size=(2, 2)))\n",
    "CNN.add(Conv2D(16, (5, 5), activation=tf.keras.layers.ReLU()))\n",
    "CNN.add(MaxPooling2D(pool_size=(2, 2)))\n",
    "CNN.add(Flatten())\n",
    "# add 3 hiden layers \n",
    "# TO DO\n",
    "CNN.add(Dense(units=200, activation=tf.keras.layers.ReLU()))\n",
    "CNN.add(Dense(units=84, activation=tf.keras.layers.ReLU()))\n",
    "CNN.add(Dense(units=10, activation='softmax'))\n",
    "\n",
    "CNN.summary()\n",
    "CNN.compile(loss=keras.losses.categorical_crossentropy, optimizer=keras.optimizers.SGD(lr=0.01, decay=1e-6, momentum=0.9, nesterov=False),metrics=['accuracy'])\n",
    "\n",
    "\n",
    "\n",
    "t0=time.time()\n",
    "\n",
    "h = CNN.fit(training_set.X_train, training_set.Y_train, epochs=10, verbose=0)\n",
    "\n",
    "tn = time.time()-t0; \n",
    "print('total computing time: '+str(tn))\n",
    "\n",
    "score = CNN.evaluate(training_set.X_test, training_set.Y_test)  \n",
    "err = 100*(1-np.array(score))\n",
    "print('Test loss: %4.3f '%score[0])\n",
    "print('Test err:  %4.2f %%'% err[1])\n",
    "\n",
    "\n",
    "\n",
    "\n"
   ]
  },
  {
   "cell_type": "markdown",
   "metadata": {
    "colab_type": "text",
    "id": "cNbDIWP44Yj7"
   },
   "source": [
    "> Draw some figures on train history (accuracy, loss function) by epoch"
   ]
  },
  {
   "cell_type": "code",
   "execution_count": 101,
   "metadata": {
    "colab": {},
    "colab_type": "code",
    "id": "ooF1KsG04OKx",
    "scrolled": true
   },
   "outputs": [
    {
     "name": "stdout",
     "output_type": "stream",
     "text": [
      "Test err:  1.10 %  time: 0.41 min\n"
     ]
    },
    {
     "data": {
      "image/png": "[encoded data removed]",
      "text/plain": [
       "<Figure size 432x288 with 1 Axes>"
      ]
     },
     "metadata": {
      "needs_background": "light"
     },
     "output_type": "display_data"
    },
    {
     "data": {
      "image/png": "[encoded data removed]",
      "text/plain": [
       "<Figure size 432x288 with 1 Axes>"
      ]
     },
     "metadata": {
      "needs_background": "light"
     },
     "output_type": "display_data"
    }
   ],
   "source": [
    "print('Test err:  %4.2f %%  time: %4.2f min'% (err[1],tn/60))\n",
    "\n",
    "plt.plot(list(range(1,len(h.history['accuracy'])+1)),h.history['accuracy'],'r')\n",
    "plt.title('Model accuracy')\n",
    "plt.ylabel('Accuracy')\n",
    "plt.xlabel('Epoch')\n",
    "plt.legend(('Train', 'Validation', 'Test'), loc='lower right')\n",
    "plt.grid()\n",
    "plt.show()\n",
    "plt.plot(list(range(1,len(h.history['loss'])+1)),h.history['loss'],'b')\n",
    "plt.title('Model accuracy')\n",
    "plt.ylabel('loss')\n",
    "plt.xlabel('Epoch')\n",
    "plt.legend(('Train', 'Validation', 'Test'), loc='upper right')\n",
    "plt.grid()\n",
    "plt.show()"
   ]
  },
  {
   "cell_type": "markdown",
   "metadata": {
    "colab_type": "text",
    "id": "mG-zAW4tmcpr"
   },
   "source": [
    "> Create you own CNN model performing better performance than the proposed one while avoiding over-fitting and huge complexity network\n",
    "\n",
    "> Test the different networks on [MNIST](http://yann.lecun.com/exdb/mnist/index.html) and [Fashion-MNIST](https://github.com/zalandoresearch/fashion-mnist)\n",
    "\n",
    "> Summarize the performance of the different networks in a Table that includes : architecture Name, Number of trained parameters, used optimizer, CPU Time, GPU Time, and Accuracy/Error "
   ]
  },
  {
   "cell_type": "code",
   "execution_count": 74,
   "metadata": {
    "colab": {},
    "colab_type": "code",
    "id": "tBe1s_HGKsVj",
    "scrolled": false
   },
   "outputs": [
    {
     "name": "stdout",
     "output_type": "stream",
     "text": [
      "Model: \"sequential_27\"\n",
      "_________________________________________________________________\n",
      "Layer (type)                 Output Shape              Param #   \n",
      "=================================================================\n",
      "conv2d_61 (Conv2D)           (None, 28, 28, 6)         60        \n",
      "_________________________________________________________________\n",
      "max_pooling2d_17 (MaxPooling (None, 14, 14, 6)         0         \n",
      "_________________________________________________________________\n",
      "conv2d_62 (Conv2D)           (None, 14, 14, 16)        880       \n",
      "_________________________________________________________________\n",
      "max_pooling2d_18 (MaxPooling (None, 7, 7, 16)          0         \n",
      "_________________________________________________________________\n",
      "conv2d_63 (Conv2D)           (None, 7, 7, 16)          2320      \n",
      "_________________________________________________________________\n",
      "flatten_17 (Flatten)         (None, 784)               0         \n",
      "_________________________________________________________________\n",
      "dense_56 (Dense)             (None, 200)               157000    \n",
      "_________________________________________________________________\n",
      "dense_57 (Dense)             (None, 84)                16884     \n",
      "_________________________________________________________________\n",
      "dense_58 (Dense)             (None, 10)                850       \n",
      "=================================================================\n",
      "Total params: 177,994\n",
      "Trainable params: 177,994\n",
      "Non-trainable params: 0\n",
      "_________________________________________________________________\n",
      "total computing time: 51.89734172821045\n",
      "547/547 [==============================] - 1s 1ms/step - loss: 0.0607 - accuracy: 0.9852\n",
      "Test loss: 0.061 \n",
      "Test err:  1.48 %\n"
     ]
    }
   ],
   "source": [
    "CNN = Sequential()\n",
    "CNN.add(Conv2D(6, kernel_size=(3, 3), activation=tf.keras.layers.LeakyReLU(), padding='same', input_shape=(28,28,1)))\n",
    "CNN.add(MaxPooling2D(pool_size=(2,2)))\n",
    "CNN.add(Conv2D(16, (3, 3), activation=tf.keras.layers.LeakyReLU(), padding='same'))\n",
    "CNN.add(MaxPooling2D(pool_size=(2,2)))\n",
    "CNN.add(Conv2D(16, (3, 3), activation=tf.keras.layers.LeakyReLU(), padding='same'))\n",
    "CNN.add(Flatten())\n",
    "# add 3 hiden layers \n",
    "# TO DO\n",
    "CNN.add(Dense(units=200, activation=tf.keras.layers.LeakyReLU()))\n",
    "CNN.add(Dense(units=84, activation=tf.keras.layers.LeakyReLU()))\n",
    "CNN.add(Dense(units=10, activation='softmax'))\n",
    "\n",
    "CNN.summary()\n",
    "CNN.compile(loss=keras.losses.categorical_crossentropy, optimizer=keras.optimizers.RMSprop(),metrics=['accuracy'])\n",
    "\n",
    "t0=time.time()\n",
    "\n",
    "h = CNN.fit(training_set.X_train, training_set.Y_train, epochs=15, verbose=0)\n",
    "\n",
    "tn = time.time()-t0; \n",
    "print('total computing time: '+str(tn))\n",
    "\n",
    "score = CNN.evaluate(training_set.X_test, training_set.Y_test)  \n",
    "err = 100*(1-np.array(score))\n",
    "print('Test loss: %4.3f '%score[0])\n",
    "print('Test err:  %4.2f %%'% err[1])\n"
   ]
  },
  {
   "cell_type": "code",
   "execution_count": 75,
   "metadata": {
    "colab": {},
    "colab_type": "code",
    "id": "ooF1KsG04OKx",
    "scrolled": true
   },
   "outputs": [
    {
     "name": "stdout",
     "output_type": "stream",
     "text": [
      "Test err:  1.48 %  time: 0.86 min\n"
     ]
    },
    {
     "data": {
      "image/png": "[encoded data removed]",
      "text/plain": [
       "<Figure size 432x288 with 1 Axes>"
      ]
     },
     "metadata": {
      "needs_background": "light"
     },
     "output_type": "display_data"
    },
    {
     "data": {
      "image/png": "[encoded data removed]",
      "text/plain": [
       "<Figure size 432x288 with 1 Axes>"
      ]
     },
     "metadata": {
      "needs_background": "light"
     },
     "output_type": "display_data"
    }
   ],
   "source": [
    "print('Test err:  %4.2f %%  time: %4.2f min'% (err[1],tn/60))\n",
    "\n",
    "plt.plot(list(range(1,len(h.history['accuracy'])+1)),h.history['accuracy'],'r')\n",
    "plt.title('Model accuracy')\n",
    "plt.ylabel('Accuracy')\n",
    "plt.xlabel('Epoch')\n",
    "plt.legend(('Train', 'Validation', 'Test'), loc='lower right')\n",
    "plt.grid()\n",
    "plt.show()\n",
    "plt.plot(list(range(1,len(h.history['loss'])+1)),h.history['loss'],'b')\n",
    "plt.title('Model accuracy')\n",
    "plt.ylabel('loss')\n",
    "plt.xlabel('Epoch')\n",
    "plt.legend(('Train', 'Validation', 'Test'), loc='upper right')\n",
    "plt.grid()\n",
    "plt.show()"
   ]
  },
  {
   "cell_type": "code",
   "execution_count": 106,
   "metadata": {
    "colab": {},
    "colab_type": "code",
    "id": "tBe1s_HGKsVj"
   },
   "outputs": [
    {
     "name": "stdout",
     "output_type": "stream",
     "text": [
      "Model: \"sequential_43\"\n",
      "_________________________________________________________________\n",
      "Layer (type)                 Output Shape              Param #   \n",
      "=================================================================\n",
      "conv2d_96 (Conv2D)           (None, 24, 24, 6)         156       \n",
      "_________________________________________________________________\n",
      "max_pooling2d_50 (MaxPooling (None, 12, 12, 6)         0         \n",
      "_________________________________________________________________\n",
      "conv2d_97 (Conv2D)           (None, 8, 8, 16)          2416      \n",
      "_________________________________________________________________\n",
      "max_pooling2d_51 (MaxPooling (None, 4, 4, 16)          0         \n",
      "_________________________________________________________________\n",
      "flatten_32 (Flatten)         (None, 256)               0         \n",
      "_________________________________________________________________\n",
      "dense_110 (Dense)            (None, 300)               77100     \n",
      "_________________________________________________________________\n",
      "dense_111 (Dense)            (None, 200)               60200     \n",
      "_________________________________________________________________\n",
      "dense_112 (Dense)            (None, 84)                16884     \n",
      "_________________________________________________________________\n",
      "dense_113 (Dense)            (None, 10)                850       \n",
      "=================================================================\n",
      "Total params: 157,606\n",
      "Trainable params: 157,606\n",
      "Non-trainable params: 0\n",
      "_________________________________________________________________\n",
      "total computing time: 46.89833188056946\n",
      "547/547 [==============================] - 1s 1ms/step - loss: 0.1043 - accuracy: 0.9843\n",
      "Test loss: 0.104 \n",
      "Test err:  1.57 %\n"
     ]
    }
   ],
   "source": [
    "CNN = Sequential()\n",
    "CNN.add(Conv2D(6, kernel_size=(5, 5), activation=tf.keras.layers.ELU(), \n",
    "               input_shape=(28,28,1)))\n",
    "CNN.add(MaxPooling2D(pool_size=(2, 2)))\n",
    "CNN.add(Conv2D(16, (5, 5), activation=tf.keras.layers.ELU()))\n",
    "CNN.add(MaxPooling2D(pool_size=(2, 2)))\n",
    "CNN.add(Flatten())\n",
    "# add 4 hiden layers \n",
    "# TO DO\n",
    "CNN.add(Dense(units=300, activation=tf.keras.layers.ELU()))\n",
    "CNN.add(Dense(units=200, activation=tf.keras.layers.ELU()))\n",
    "CNN.add(Dense(units=84, activation=tf.keras.layers.ELU()))\n",
    "CNN.add(Dense(units=10, activation='softmax'))\n",
    "\n",
    "CNN.summary()\n",
    "CNN.compile(loss=keras.losses.categorical_crossentropy, optimizer=keras.optimizers.RMSprop(),metrics=['accuracy'])\n",
    "\n",
    "\n",
    "\n",
    "t0=time.time()\n",
    "\n",
    "h = CNN.fit(training_set.X_train, training_set.Y_train, epochs=15, verbose=0)\n",
    "\n",
    "tn = time.time()-t0; \n",
    "print('total computing time: '+str(tn))\n",
    "\n",
    "score = CNN.evaluate(training_set.X_test, training_set.Y_test)  \n",
    "err = 100*(1-np.array(score))\n",
    "print('Test loss: %4.3f '%score[0])\n",
    "print('Test err:  %4.2f %%'% err[1])\n"
   ]
  },
  {
   "cell_type": "code",
   "execution_count": 107,
   "metadata": {
    "colab": {},
    "colab_type": "code",
    "id": "ooF1KsG04OKx",
    "scrolled": true
   },
   "outputs": [
    {
     "name": "stdout",
     "output_type": "stream",
     "text": [
      "Test err:  1.57 %  time: 0.78 min\n"
     ]
    },
    {
     "data": {
      "image/png": "[encoded data removed]",
      "text/plain": [
       "<Figure size 432x288 with 1 Axes>"
      ]
     },
     "metadata": {
      "needs_background": "light"
     },
     "output_type": "display_data"
    },
    {
     "data": {
      "image/png": "[encoded data removed]",
      "text/plain": [
       "<Figure size 432x288 with 1 Axes>"
      ]
     },
     "metadata": {
      "needs_background": "light"
     },
     "output_type": "display_data"
    }
   ],
   "source": [
    "print('Test err:  %4.2f %%  time: %4.2f min'% (err[1],tn/60))\n",
    "\n",
    "plt.plot(list(range(1,len(h.history['accuracy'])+1)),h.history['accuracy'],'r')\n",
    "plt.title('Model accuracy')\n",
    "plt.ylabel('Accuracy')\n",
    "plt.xlabel('Epoch')\n",
    "plt.legend(('Train', 'Validation', 'Test'), loc='lower right')\n",
    "plt.grid()\n",
    "plt.show()\n",
    "plt.plot(list(range(1,len(h.history['loss'])+1)),h.history['loss'],'b')\n",
    "plt.title('Model accuracy')\n",
    "plt.ylabel('loss')\n",
    "plt.xlabel('Epoch')\n",
    "plt.legend(('Train', 'Validation', 'Test'), loc='upper right')\n",
    "plt.grid()\n",
    "plt.show()"
   ]
  },
  {
   "cell_type": "markdown",
   "metadata": {
    "colab_type": "text",
    "id": "mr4v5KZ80zQ7"
   },
   "source": []
  }
 ],
 "metadata": {
  "accelerator": "GPU",
  "colab": {
   "collapsed_sections": [],
   "name": "TP2_DL_image_classification.ipynb",
   "provenance": [
    {
     "file_id": "1RT7xAUPQUwgPwPapMKCmPgIdAhl76ISx",
     "timestamp": 1585862270398
    }
   ],
   "toc_visible": true
  },
  "kernelspec": {
   "display_name": "Python 3",
   "language": "python",
   "name": "python3"
  },
  "language_info": {
   "codemirror_mode": {
    "name": "ipython",
    "version": 3
   },
   "file_extension": ".py",
   "mimetype": "text/x-python",
   "name": "python",
   "nbconvert_exporter": "python",
   "pygments_lexer": "ipython3",
   "version": "3.8.8"
  }
 },
 "nbformat": 4,
 "nbformat_minor": 1
}
